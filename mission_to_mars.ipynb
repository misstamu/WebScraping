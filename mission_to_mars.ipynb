{
 "cells": [
  {
   "cell_type": "code",
   "execution_count": 1,
   "metadata": {},
   "outputs": [],
   "source": [
    "#dependencies\n",
    "from splinter import Browser\n",
    "from bs4 import BeautifulSoup"
   ]
  },
  {
   "cell_type": "code",
   "execution_count": 2,
   "metadata": {},
   "outputs": [],
   "source": [
    "#excute chromedrive for windows\n",
    "executable_path = {'executable_path': 'chromedriver.exe'}\n",
    "browser = Browser('chrome', **executable_path, headless=False)"
   ]
  },
  {
   "cell_type": "markdown",
   "metadata": {},
   "source": [
    "Scraping NASA Mars News"
   ]
  },
  {
   "cell_type": "code",
   "execution_count": 3,
   "metadata": {},
   "outputs": [],
   "source": [
    "#url website for scraping\n",
    "url = 'https://mars.nasa.gov/news/'\n",
    "browser.visit(url)"
   ]
  },
  {
   "cell_type": "code",
   "execution_count": 7,
   "metadata": {},
   "outputs": [
    {
     "name": "stdout",
     "output_type": "stream",
     "text": [
      "Mars Helicopter to Fly on NASA’s Next Red Planet Rover Mission\n",
      "NASA's First Deep-Space CubeSats Say: 'Polo!'\n",
      "NASA, ULA Launch Mission to Study How Mars Was Made\n",
      "NASA’s First Mission to Study the Interior of Mars Awaits May 5 Launch\n",
      "Vice President Pence Visits JPL, Previews NASA’s Next Mars Mission Launch\n",
      "NASA Sets Sights on May 5 Launch of InSight to Mars\n",
      "Results of Heat Shield Testing\n",
      "NASA Engineers Dream Big with Small Spacecraft\n",
      "Bound for Mars: Countdown to First Interplanetary Launch from California\n",
      "NASA Invests in Visionary Technology \n",
      "NASA is Ready to Study the Heart of Mars\n",
      "‘Marsquakes’ Could Shake Up Planetary Science\n",
      "Mars Curiosity Celebrates Sol 2,000\n",
      "NASA Briefing on First Mission to Study Mars Interior\n",
      "New 'AR' Mobile App Features 3-D NASA Spacecraft\n",
      "NASA Mars Mission Tours California\n",
      "Next NASA Mars Rover Reaches Key Manufacturing Milestone\n",
      "Witness First Mars Launch from West Coast\n",
      "360 Video: Tour a Mars Robot Test Lab\n",
      "NASA InSight Mission to Mars Arrives at Launch Site\n",
      "Curiosity Tests a New Way to Drill on Mars\n",
      "Seven Ways Mars InSight is Different\n",
      "Nearly a Decade After Mars Phoenix Landed, Another Look\n",
      "Spacecraft Exits Safe Mode\n",
      "5,000 Days on Mars; Solar-Powered Rover Approaching 5,000th Martian Dawn\n",
      "Long-Lived Mars Rover Opportunity Keeps Finding Surprises\n",
      "A Piece of Mars is Going Home\n",
      "Mars Reconnaissance Orbiter Preparing for Years Ahead\n",
      "Tiny Crystal Shapes Get Close Look From Mars Rover\n",
      "NASA Tests Atomic Clock for Deep Space Navigation\n",
      "Mount Sharp 'Photobombs' Mars Curiosity Rover\n",
      "Vista From Mars Rover Looks Back Over Journey So Far\n",
      "NASA's Next Mars Lander Spreads its Solar Wings\n",
      "Dust Storms Linked to Gas Escape from Mars Atmosphere\n",
      "Steep Slopes on Mars Reveal Structure of Buried Ice\n",
      "Mars Mission Sheds Light on Habitability of Distant Planets\n",
      "NASA Mars Rover Team's Tilted Winter Strategy Works\n",
      "NASA Builds Its Next Mars Rover Mission\n",
      "Recurring Martian Streaks: Flowing Sand, Not Water?\n",
      "NASA's Mars 2020 Mission Performs First Supersonic Parachute Test\n",
      "More Than 2.4 Million Names Are Going to Mars\n",
      "Martian Ridge Brings Out Rover's Color Talents\n",
      "Next Mars Rover Will Have 23 'Eyes'\n",
      "Mars Rover Mission Progresses Toward Resumed Drilling\n",
      "Take a Walk on Mars -- in Your Own Living Room\n",
      "NASA’s MAVEN Mission Finds Mars Has a Twisted Tail\n",
      "Mars Study Yields Clues to Possible Cradle of Life\n",
      "Examining Mars' Moon Phobos in a Different Light\n",
      "Another Chance to Put Your Name on Mars\n",
      "Large Solar Storm Sparks Global Aurora and Doubles Radiation Levels on the Martian Surface\n",
      "A Fresh Look at Older Data Yields a Surprise Near the Martian Equator\n",
      "New Gravity Map Suggests Mars Has a Porous Crust\n",
      "NASA's Curiosity Mars Rover Climbing Toward Ridge Top\n",
      "NASA's Next Mars Mission to Investigate Interior of Red Planet\n",
      "Watch Martian Clouds Scoot, Thanks to NASA's Curiosity\n",
      "Five Years Ago and 154 Million Miles Away:  Touchdown!\n",
      "Eclipse Balloons to Study Effect of Mars-Like Environment on Life\n",
      "From Mars Rover: Panorama Above 'Perseverance Valley'\n",
      "NASA's Hubble Sees Martian Moon Orbiting the Red Planet\n",
      "For Moratorium on Sending Commands to Mars, Blame the Sun\n",
      "Curiosity Mars Rover Begins Study of Ridge Destination\n",
      "An Algorithm Helps Protect Mars Curiosity's Wheels\n",
      "Mars Rover Opportunity on Walkabout Near Rim\n",
      "Why No One Under 20 Has Experienced a Day Without NASA at Mars\n",
      "Laser-targeting A.I. Yields More Mars Science\n",
      "A.I. Will Prepare Robots for the Unknown\n",
      "NASA Mars Orbiter Views Rover Climbing Mount Sharp\n",
      "Martian Crater Provides Reminder of Apollo Moonwalk\n",
      "1,000 Days in Orbit: MAVEN's Top 10  Discoveries at Mars\n",
      "NASA Finds Evidence of Diverse Environments in Curiosity Samples\n",
      "Curiosity Peels Back Layers on Ancient Martian Lake\n",
      "High-Silica 'Halos' Shed Light on Wet Ancient Mars\n",
      "Mars Rover Opportunity Begins Study of Valley's Origin\n",
      "NASA Rover Samples Active Linear Dune on Mars\n",
      "New Look at 2004's Martian Hole-in-One  Site\n",
      "Detecting Life in the Ultra-dry Atacama Desert\n",
      "NASA's Mars Rover Opportunity Leaves 'Tribulation'\n",
      "NASA's MAVEN Reveals Mars Has Metal in its Atmosphere\n",
      "NASA's MAVEN Reveals Most of Mars' Atmosphere Was Lost to Space\n",
      "Prolific Mars Orbiter Completes 50,000 Orbits\n",
      "\n",
      "\n",
      "New 'AR' Mobile App Features 3-D NASA Spacecraft\n",
      "\n",
      "\n",
      "\n",
      "\n",
      "Witness First Mars Launch from West Coast\n",
      "\n",
      "\n",
      "\n",
      "\n",
      "NASA InSight Mission to Mars Arrives at Launch Site\n",
      "\n",
      "\n",
      "\n",
      "\n",
      "NASA Invests in Visionary Technology \n",
      "\n",
      "\n",
      "\n",
      "\n",
      "NASA is Ready to Study the Heart of Mars\n",
      "\n",
      "\n",
      "\n",
      "\n",
      "NASA Briefing on First Mission to Study Mars Interior\n",
      "\n",
      "\n",
      "\n",
      "\n",
      "New 'AR' Mobile App Features 3-D NASA Spacecraft\n",
      "\n",
      "\n",
      "\n",
      "\n",
      "Witness First Mars Launch from West Coast\n",
      "\n",
      "\n",
      "\n",
      "\n",
      "NASA InSight Mission to Mars Arrives at Launch Site\n",
      "\n",
      "\n",
      "\n",
      "\n",
      "NASA Invests in Visionary Technology \n",
      "\n",
      "\n",
      "\n",
      "\n",
      "NASA is Ready to Study the Heart of Mars\n",
      "\n",
      "\n",
      "\n",
      "\n",
      "NASA Briefing on First Mission to Study Mars Interior\n",
      "\n",
      "\n"
     ]
    }
   ],
   "source": [
    "#loop through page to find all titles\n",
    "for x in range(50):\n",
    "\n",
    "    html = browser.html\n",
    "    soup = BeautifulSoup(html, 'html.parser')\n",
    "\n",
    "    titles = soup.find_all('div', class_='content_title')\n",
    "    #t_body = soup.find_all('div', class_='article_teaser_body')\n",
    "\n",
    "    for title in titles:\n",
    "        print(title.text)\n",
    "\n",
    "\n",
    "    browser.click_link_by_partial_text('More')"
   ]
  },
  {
   "cell_type": "code",
   "execution_count": 9,
   "metadata": {},
   "outputs": [
    {
     "name": "stdout",
     "output_type": "stream",
     "text": [
      "NASA is adding a Mars helicopter to the agency’s next mission to the Red Planet, Mars 2020.\n",
      "MarCO is a pair of tiny spacecraft that launched with NASA's InSight lander today.\n",
      "NASA’s Mars InSight mission launched this morning on a 300-million-mile trip to Mars to study for the first time what lies deep beneath the surface of the Red Planet.\n",
      "All systems are go for NASA’s next launch to the Red Planet. \n",
      "A week before NASA's next Mars launch, Vice President Mike Pence toured the birthplace of the InSight Mars Lander and numerous other past, present and future space missions.\n",
      "NASA’s next mission to Mars, InSight, is scheduled to launch Saturday, May 5, on a first-ever mission to study the heart of the Red Planet.\n",
      "A post-test inspection of the composite structure for a heat shield to be used on the Mars 2020 mission revealed that a fracture occurred during structural testing.\n",
      "The first CubeSat mission to deep space will launch in May.\n",
      "On May 5, millions of Californians may witness the historic first interplanetary launch from America’s West Coast.\n",
      "NASA is investing in technology concepts, including several from JPL, that may one day be used for future space exploration missions.\n",
      "NASA is about to go on a journey to study the center of Mars.\n",
      "InSight, the next mission to the Red Planet, will use seismology to see into the depths of Mars.\n",
      "NASA's Mars Curiosity rover just hit a new milestone: its two-thousandth Martian day on the Red Planet. An image mosaic taken recently offers a preview of what comes next.\n",
      "NASA’s next mission to Mars will be the topic of a media briefing Thursday, March 29, at JPL. The briefing will air live on NASA Television and the agency’s website.\n",
      "NASA spacecraft travel to far-off destinations in space, but a new mobile app produced by NASA's Jet Propulsion Laboratory, Pasadena, California, brings spacecraft to users.\n",
      "Scientists and engineers with NASA's next mission to Mars will be touring California cities starting this month.\n",
      "NASA's Mars 2020 mission has begun the assembly, test and launch operations (ATLO) phase of its development, on track for a July 2020 launch to Mars.\n",
      "NASA invites digital creators to apply for social media credentials to cover the launch of the InSight mission to Mars, May 3-5, at California's Vandenberg Air Force Base.\n",
      "Engineers are practicing operations for NASA's Mars InSight lander, which is launching this spring.\n",
      "NASA's InSight spacecraft has arrived at Vandenberg Air Force Base in central California to begin final preparations for a launch this May.\n",
      "NASA's Mars Curiosity rover has conducted the first test of a new drilling technique on the Red Planet since its drill stopped working reliably.     \n",
      "NASA has a long and successful track record at Mars. Since 1965, it has flown by, orbited, landed and roved across the surface of the Red Planet. What can InSight -- planned for launch in May -- do that hasn’t been done before?\n",
      "A recent view from Mars orbit of the site where NASA's Phoenix Mars mission landed on far-northern Mars nearly a decade ago captures changes.\n",
      "Diagnostic work is the focus for resuming service and exiting safe standby status.\n",
      "The Sun will rise on NASA's solar-powered Mars rover Opportunity for the 5,000th time on Saturday, sending rays of energy to a robot that continues to provide revelations.\n",
      "NASA's Mars Exploration Rover Opportunity keeps providing surprises about the Red Planet, most recently with observations of possible \"rock stripes.\"\n",
      "When it launches in 2020, NASA's next Mars rover will carry a chunk of Martian meteorite on board.\n",
      "NASA's Mars Reconnaissance Orbiter (MRO) has begun extra stargazing to help the space agency accomplish advances in Mars exploration over the next decade.\n",
      "Star-shaped, tiny, dark bumps in the fine-layered bright bedrock of a Martian ridge are drawing close inspection by NASA's Curiosity Mars rover.\n",
      "Project could help spacecraft keep time more efficiently and allow ground stations to better track multiple satellites at once near crowded areas like Mars.\n",
      "A new self-portrait of NASA's Curiosity Mars rover shows the vehicle on Vera Rubin Ridge.\n",
      "A panoramic image that NASA's Curiosity Mars rover took from a mountainside ridge provides a sweeping vista of key sites visited since the rover's 2012 landing, and the towering surroundings.\n",
      "NASA's next mission to Mars passed a key test Tuesday, extending the solar arrays that will power the InSight spacecraft once it lands on the Red Planet this November.\n",
      "If Mars has a global dust storm in 2018, observations could aid understanding of its effects.\n",
      "Researchers using NASA's Mars Reconnaissance Orbiter have found eight sites where thick deposits of ice beneath Mars' surface are exposed.\n",
      "How long might a rocky, Mars-like planet be habitable if it were orbiting a red dwarf star?\n",
      "NASA's senior Mars rover, Opportunity, has just passed the shortest-daylight weeks of the long Martian year with its solar panels in encouragingly clean condition for entering a potential dust-storm season in 2018.\r\n",
      "\r\n",
      "\n",
      "In just a few years, NASA's next Mars rover mission will be flying to the Red Planet.\n",
      "Seasonal dark streaks on Mars that previously were described as possible signs of flowing water have steep slopes that are better matches to dry flow processes...\n",
      "A 58-foot-tall Black Brant IX sounding rocket launches from NASA's Wallops Flight Facility on Oct. 4. This was the first test of the Mars 2020 mission's parachute-testing series, the Advanced Supersonic Parachute Inflation Research Experiment, or ASPIRE.\n"
     ]
    }
   ],
   "source": [
    "#loop through page to find all title bodies\n",
    "for x in range(50):\n",
    "\n",
    "    html = browser.html\n",
    "    soup = BeautifulSoup(html, 'html.parser')\n",
    "\n",
    "    tbody = soup.find_all('div', class_='article_teaser_body')\n",
    "\n",
    "    for t in tbody:\n",
    "        print(t.text)\n",
    "\n",
    "\n",
    "    browser.click_link_by_partial_text('More')"
   ]
  },
  {
   "cell_type": "markdown",
   "metadata": {},
   "source": [
    "JPL Mars Space Featured Image"
   ]
  },
  {
   "cell_type": "code",
   "execution_count": 3,
   "metadata": {},
   "outputs": [],
   "source": [
    "#url website for scraping\n",
    "url2 = 'https://www.jpl.nasa.gov/spaceimages/?search=&category=Mars'\n",
    "browser.visit(url2)"
   ]
  },
  {
   "cell_type": "code",
   "execution_count": 12,
   "metadata": {},
   "outputs": [
    {
     "name": "stdout",
     "output_type": "stream",
     "text": [
      "[<article alt=\"First X-ray View of Martian Soil\" class=\"carousel_item\" style=\"background-image: url('/spaceimages/images/wallpaper/PIA16217-1920x1200.jpg');\">\n",
      "<div class=\"default floating_text_area ms-layer\">\n",
      "<h2 class=\"category_title\">\n",
      "</h2>\n",
      "<h2 class=\"brand_title\">\n",
      "\t\t\t\t  FEATURED IMAGE\n",
      "\t\t\t\t</h2>\n",
      "<h1 class=\"media_feature_title\">\n",
      "\t\t\t\t  First X-ray View of Martian Soil\t\t\t\t</h1>\n",
      "<div class=\"description\">\n",
      "</div>\n",
      "<footer>\n",
      "<a class=\"button fancybox\" data-description=\"This graphic shows results of the first analysis of Martian soil by the CheMin experiment on NASA's Curiosity rover. The image reveals the presence of crystalline feldspar, pyroxenes and olivine mixed with some amorphous (non-crystalline) material.\" data-fancybox-group=\"images\" data-fancybox-href=\"/spaceimages/images/mediumsize/PIA16217_ip.jpg\" data-link=\"/spaceimages/details.php?id=PIA16217\" data-title=\"First X-ray View of Martian Soil\" id=\"full_image\">\n",
      "\t\t\t\t\tFULL IMAGE\n",
      "\t\t\t\t  </a>\n",
      "</footer>\n",
      "</div>\n",
      "<div class=\"gradient_container_top\"></div>\n",
      "<div class=\"gradient_container_bottom\"></div>\n",
      "</article>]\n"
     ]
    }
   ],
   "source": [
    "html = browser.html\n",
    "soup = BeautifulSoup(html, 'html.parser')\n",
    "furl = soup.find_all('article', class_='carousel_item')\n",
    "print(furl)"
   ]
  },
  {
   "cell_type": "code",
   "execution_count": 13,
   "metadata": {},
   "outputs": [],
   "source": [
    "featured_image_url = 'https://www.jpl.nasa.gov/spaceimages/images/mediumsize/PIA16217_ip.jpg'"
   ]
  },
  {
   "cell_type": "markdown",
   "metadata": {},
   "source": [
    "Mars Weather"
   ]
  },
  {
   "cell_type": "code",
   "execution_count": 14,
   "metadata": {},
   "outputs": [],
   "source": [
    "mars_weather = 'Sol 2047 (May 10, 2018), Sunny, high 3C/37F, low -71C/-95F, pressure at 7.33 hPa, daylight 05:22-17:20'"
   ]
  },
  {
   "cell_type": "markdown",
   "metadata": {},
   "source": [
    "Mars Facts"
   ]
  },
  {
   "cell_type": "code",
   "execution_count": 1,
   "metadata": {},
   "outputs": [],
   "source": [
    "# panda dependency\n",
    "import pandas as pd"
   ]
  },
  {
   "cell_type": "code",
   "execution_count": 2,
   "metadata": {},
   "outputs": [],
   "source": [
    "# url for panda scraping\n",
    "url3 = 'https://space-facts.com/mars/'"
   ]
  },
  {
   "cell_type": "code",
   "execution_count": 3,
   "metadata": {},
   "outputs": [
    {
     "data": {
      "text/plain": [
       "[                      0                              1\n",
       " 0  Equatorial Diameter:                       6,792 km\n",
       " 1       Polar Diameter:                       6,752 km\n",
       " 2                 Mass:  6.42 x 10^23 kg (10.7% Earth)\n",
       " 3                Moons:            2 (Phobos & Deimos)\n",
       " 4       Orbit Distance:       227,943,824 km (1.52 AU)\n",
       " 5         Orbit Period:           687 days (1.9 years)\n",
       " 6  Surface Temperature:                  -153 to 20 °C\n",
       " 7         First Record:              2nd millennium BC\n",
       " 8          Recorded By:           Egyptian astronomers]"
      ]
     },
     "execution_count": 3,
     "metadata": {},
     "output_type": "execute_result"
    }
   ],
   "source": [
    "tables = pd.read_html(url3)\n",
    "tables"
   ]
  },
  {
   "cell_type": "code",
   "execution_count": 7,
   "metadata": {},
   "outputs": [
    {
     "data": {
      "text/html": [
       "<div>\n",
       "<style scoped>\n",
       "    .dataframe tbody tr th:only-of-type {\n",
       "        vertical-align: middle;\n",
       "    }\n",
       "\n",
       "    .dataframe tbody tr th {\n",
       "        vertical-align: top;\n",
       "    }\n",
       "\n",
       "    .dataframe thead th {\n",
       "        text-align: right;\n",
       "    }\n",
       "</style>\n",
       "<table border=\"1\" class=\"dataframe\">\n",
       "  <thead>\n",
       "    <tr style=\"text-align: right;\">\n",
       "      <th></th>\n",
       "      <th>Info</th>\n",
       "    </tr>\n",
       "    <tr>\n",
       "      <th>Planet Profile</th>\n",
       "      <th></th>\n",
       "    </tr>\n",
       "  </thead>\n",
       "  <tbody>\n",
       "    <tr>\n",
       "      <th>Equatorial Diameter:</th>\n",
       "      <td>6,792 km</td>\n",
       "    </tr>\n",
       "    <tr>\n",
       "      <th>Polar Diameter:</th>\n",
       "      <td>6,752 km</td>\n",
       "    </tr>\n",
       "    <tr>\n",
       "      <th>Mass:</th>\n",
       "      <td>6.42 x 10^23 kg (10.7% Earth)</td>\n",
       "    </tr>\n",
       "    <tr>\n",
       "      <th>Moons:</th>\n",
       "      <td>2 (Phobos &amp; Deimos)</td>\n",
       "    </tr>\n",
       "    <tr>\n",
       "      <th>Orbit Distance:</th>\n",
       "      <td>227,943,824 km (1.52 AU)</td>\n",
       "    </tr>\n",
       "    <tr>\n",
       "      <th>Orbit Period:</th>\n",
       "      <td>687 days (1.9 years)</td>\n",
       "    </tr>\n",
       "    <tr>\n",
       "      <th>Surface Temperature:</th>\n",
       "      <td>-153 to 20 °C</td>\n",
       "    </tr>\n",
       "    <tr>\n",
       "      <th>First Record:</th>\n",
       "      <td>2nd millennium BC</td>\n",
       "    </tr>\n",
       "    <tr>\n",
       "      <th>Recorded By:</th>\n",
       "      <td>Egyptian astronomers</td>\n",
       "    </tr>\n",
       "  </tbody>\n",
       "</table>\n",
       "</div>"
      ],
      "text/plain": [
       "                                               Info\n",
       "Planet Profile                                     \n",
       "Equatorial Diameter:                       6,792 km\n",
       "Polar Diameter:                            6,752 km\n",
       "Mass:                 6.42 x 10^23 kg (10.7% Earth)\n",
       "Moons:                          2 (Phobos & Deimos)\n",
       "Orbit Distance:            227,943,824 km (1.52 AU)\n",
       "Orbit Period:                  687 days (1.9 years)\n",
       "Surface Temperature:                  -153 to 20 °C\n",
       "First Record:                     2nd millennium BC\n",
       "Recorded By:                   Egyptian astronomers"
      ]
     },
     "execution_count": 7,
     "metadata": {},
     "output_type": "execute_result"
    }
   ],
   "source": [
    "mfact_df = tables[0]\n",
    "mfact_df.columns = ['Planet Profile', 'Info']\n",
    "mfact_df.set_index('Planet Profile', inplace=True)\n",
    "mfact_df"
   ]
  },
  {
   "cell_type": "code",
   "execution_count": 8,
   "metadata": {},
   "outputs": [
    {
     "data": {
      "text/plain": [
       "<bound method DataFrame.to_html of                                                Info\n",
       "Planet Profile                                     \n",
       "Equatorial Diameter:                       6,792 km\n",
       "Polar Diameter:                            6,752 km\n",
       "Mass:                 6.42 x 10^23 kg (10.7% Earth)\n",
       "Moons:                          2 (Phobos & Deimos)\n",
       "Orbit Distance:            227,943,824 km (1.52 AU)\n",
       "Orbit Period:                  687 days (1.9 years)\n",
       "Surface Temperature:                  -153 to 20 °C\n",
       "First Record:                     2nd millennium BC\n",
       "Recorded By:                   Egyptian astronomers>"
      ]
     },
     "execution_count": 8,
     "metadata": {},
     "output_type": "execute_result"
    }
   ],
   "source": [
    "html_table = mfact_df.to_html\n",
    "html_table"
   ]
  },
  {
   "cell_type": "markdown",
   "metadata": {},
   "source": [
    "Mars Hemispheres"
   ]
  },
  {
   "cell_type": "code",
   "execution_count": 1,
   "metadata": {},
   "outputs": [],
   "source": [
    "hemisphere_images = [{\"title\": \"Cerberus Hemisphere\", \n",
    "                      \"img_url\": \"https://astropedia.astrogeology.usgs.gov/download/Mars/Viking/cerberus_enhanced.tif/full.jpg\"},\n",
    "    {\"title\": \"Schiaparelli Hemisphere\", \n",
    "     \"img_url\": \"https://astropedia.astrogeology.usgs.gov/download/Mars/Viking/schiaparelli_enhanced.tif/full.jpg\"},\n",
    "    {\"title\": \"Syrtis Major Hemisphere\",\n",
    "     \"img_url\": \"https://astropedia.astrogeology.usgs.gov/download/Mars/Viking/syrtis_major_enhanced.tif/full.jpg\"},\n",
    "    {\"title\": \"Valles Marineris Hemisphere\", \n",
    "     \"img_url\": \"https://astropedia.astrogeology.usgs.gov/download/Mars/Viking/valles_marineris_enhanced.tif/full.jpg\"}]"
   ]
  },
  {
   "cell_type": "code",
   "execution_count": null,
   "metadata": {},
   "outputs": [],
   "source": []
  }
 ],
 "metadata": {
  "kernelspec": {
   "display_name": "Python 3",
   "language": "python",
   "name": "python3"
  },
  "language_info": {
   "codemirror_mode": {
    "name": "ipython",
    "version": 3
   },
   "file_extension": ".py",
   "mimetype": "text/x-python",
   "name": "python",
   "nbconvert_exporter": "python",
   "pygments_lexer": "ipython3",
   "version": "3.6.4"
  },
  "varInspector": {
   "cols": {
    "lenName": 16,
    "lenType": 16,
    "lenVar": 40
   },
   "kernels_config": {
    "python": {
     "delete_cmd_postfix": "",
     "delete_cmd_prefix": "del ",
     "library": "var_list.py",
     "varRefreshCmd": "print(var_dic_list())"
    },
    "r": {
     "delete_cmd_postfix": ") ",
     "delete_cmd_prefix": "rm(",
     "library": "var_list.r",
     "varRefreshCmd": "cat(var_dic_list()) "
    }
   },
   "types_to_exclude": [
    "module",
    "function",
    "builtin_function_or_method",
    "instance",
    "_Feature"
   ],
   "window_display": false
  }
 },
 "nbformat": 4,
 "nbformat_minor": 2
}
